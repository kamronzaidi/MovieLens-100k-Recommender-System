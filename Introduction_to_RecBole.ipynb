{
  "nbformat": 4,
  "nbformat_minor": 0,
  "metadata": {
    "colab": {
      "provenance": []
    },
    "kernelspec": {
      "name": "python3",
      "display_name": "Python 3"
    },
    "language_info": {
      "name": "python"
    }
  },
  "cells": [
    {
      "cell_type": "markdown",
      "source": [
        "##Attention!: This notebook is not part of the assignment and is totally optional. It introduces a tool that includes implementations of several well-known recommenders and can be quite useful for you if you are intetersted in doing research on recommender systems."
      ],
      "metadata": {
        "id": "WX5s4AwVk3yO"
      }
    },
    {
      "cell_type": "markdown",
      "source": [
        "##Introduction to RecBole:\n",
        "\n",
        "Recommender systems have been the focus of numerous studies and research works over the last couple of decades and several recommender models have been proposed by different researchers. In this course, you get acquainted with major categories of recommender systems (content-based, Collaborative Filtering, and Hybrid methods) and acquire some hands-on experienece with them. Each of these categories encompass numerous models and approaches. If you want to go beyond the models studied in this course, RecBole is a lucrative tool that we introduce here.\n",
        "\n",
        "RecBole is developed based on Python and PyTorch for reproducing and developing recommendation algorithms in a unified, comprehensive and efficient framework for research purpose. It can be installed from pip, conda and source, and easy to use.\n",
        "\n",
        "Let's get acquainted with different capabilities of RecBole one by one. First things first, let's install RecBole using \"pip\":"
      ],
      "metadata": {
        "id": "oDv-xj-Mg79Q"
      }
    },
    {
      "cell_type": "code",
      "execution_count": 34,
      "metadata": {
        "id": "ycjcLOGkFXu8",
        "colab": {
          "base_uri": "https://localhost:8080/"
        },
        "outputId": "ca77986e-ab60-4c51-cdc5-786ca58a56c2"
      },
      "outputs": [
        {
          "output_type": "stream",
          "name": "stdout",
          "text": [
            "Requirement already satisfied: recbole in /usr/local/lib/python3.10/dist-packages (1.1.1)\n",
            "Requirement already satisfied: torch>=1.10.0 in /usr/local/lib/python3.10/dist-packages (from recbole) (2.0.1+cu118)\n",
            "Requirement already satisfied: numpy>=1.17.2 in /usr/local/lib/python3.10/dist-packages (from recbole) (1.23.5)\n",
            "Requirement already satisfied: scipy>=1.6.0 in /usr/local/lib/python3.10/dist-packages (from recbole) (1.11.3)\n",
            "Requirement already satisfied: pandas>=1.0.5 in /usr/local/lib/python3.10/dist-packages (from recbole) (1.5.3)\n",
            "Requirement already satisfied: tqdm>=4.48.2 in /usr/local/lib/python3.10/dist-packages (from recbole) (4.66.1)\n",
            "Requirement already satisfied: colorlog==4.7.2 in /usr/local/lib/python3.10/dist-packages (from recbole) (4.7.2)\n",
            "Requirement already satisfied: colorama==0.4.4 in /usr/local/lib/python3.10/dist-packages (from recbole) (0.4.4)\n",
            "Requirement already satisfied: scikit-learn>=0.23.2 in /usr/local/lib/python3.10/dist-packages (from recbole) (1.2.2)\n",
            "Requirement already satisfied: pyyaml>=5.1.0 in /usr/local/lib/python3.10/dist-packages (from recbole) (6.0.1)\n",
            "Requirement already satisfied: tensorboard>=2.5.0 in /usr/local/lib/python3.10/dist-packages (from recbole) (2.13.0)\n",
            "Requirement already satisfied: thop>=0.1.1.post2207130030 in /usr/local/lib/python3.10/dist-packages (from recbole) (0.1.1.post2209072238)\n",
            "Requirement already satisfied: tabulate>=0.8.10 in /usr/local/lib/python3.10/dist-packages (from recbole) (0.9.0)\n",
            "Requirement already satisfied: plotly>=4.0.0 in /usr/local/lib/python3.10/dist-packages (from recbole) (5.15.0)\n",
            "Requirement already satisfied: python-dateutil>=2.8.1 in /usr/local/lib/python3.10/dist-packages (from pandas>=1.0.5->recbole) (2.8.2)\n",
            "Requirement already satisfied: pytz>=2020.1 in /usr/local/lib/python3.10/dist-packages (from pandas>=1.0.5->recbole) (2023.3.post1)\n",
            "Requirement already satisfied: tenacity>=6.2.0 in /usr/local/lib/python3.10/dist-packages (from plotly>=4.0.0->recbole) (8.2.3)\n",
            "Requirement already satisfied: packaging in /usr/local/lib/python3.10/dist-packages (from plotly>=4.0.0->recbole) (23.2)\n",
            "Requirement already satisfied: joblib>=1.1.1 in /usr/local/lib/python3.10/dist-packages (from scikit-learn>=0.23.2->recbole) (1.3.2)\n",
            "Requirement already satisfied: threadpoolctl>=2.0.0 in /usr/local/lib/python3.10/dist-packages (from scikit-learn>=0.23.2->recbole) (3.2.0)\n",
            "Requirement already satisfied: absl-py>=0.4 in /usr/local/lib/python3.10/dist-packages (from tensorboard>=2.5.0->recbole) (1.4.0)\n",
            "Requirement already satisfied: grpcio>=1.48.2 in /usr/local/lib/python3.10/dist-packages (from tensorboard>=2.5.0->recbole) (1.59.0)\n",
            "Requirement already satisfied: google-auth<3,>=1.6.3 in /usr/local/lib/python3.10/dist-packages (from tensorboard>=2.5.0->recbole) (2.17.3)\n",
            "Requirement already satisfied: google-auth-oauthlib<1.1,>=0.5 in /usr/local/lib/python3.10/dist-packages (from tensorboard>=2.5.0->recbole) (1.0.0)\n",
            "Requirement already satisfied: markdown>=2.6.8 in /usr/local/lib/python3.10/dist-packages (from tensorboard>=2.5.0->recbole) (3.5)\n",
            "Requirement already satisfied: protobuf>=3.19.6 in /usr/local/lib/python3.10/dist-packages (from tensorboard>=2.5.0->recbole) (3.20.3)\n",
            "Requirement already satisfied: requests<3,>=2.21.0 in /usr/local/lib/python3.10/dist-packages (from tensorboard>=2.5.0->recbole) (2.31.0)\n",
            "Requirement already satisfied: setuptools>=41.0.0 in /usr/local/lib/python3.10/dist-packages (from tensorboard>=2.5.0->recbole) (67.7.2)\n",
            "Requirement already satisfied: tensorboard-data-server<0.8.0,>=0.7.0 in /usr/local/lib/python3.10/dist-packages (from tensorboard>=2.5.0->recbole) (0.7.1)\n",
            "Requirement already satisfied: werkzeug>=1.0.1 in /usr/local/lib/python3.10/dist-packages (from tensorboard>=2.5.0->recbole) (3.0.0)\n",
            "Requirement already satisfied: wheel>=0.26 in /usr/local/lib/python3.10/dist-packages (from tensorboard>=2.5.0->recbole) (0.41.2)\n",
            "Requirement already satisfied: filelock in /usr/local/lib/python3.10/dist-packages (from torch>=1.10.0->recbole) (3.12.4)\n",
            "Requirement already satisfied: typing-extensions in /usr/local/lib/python3.10/dist-packages (from torch>=1.10.0->recbole) (4.5.0)\n",
            "Requirement already satisfied: sympy in /usr/local/lib/python3.10/dist-packages (from torch>=1.10.0->recbole) (1.12)\n",
            "Requirement already satisfied: networkx in /usr/local/lib/python3.10/dist-packages (from torch>=1.10.0->recbole) (3.1)\n",
            "Requirement already satisfied: jinja2 in /usr/local/lib/python3.10/dist-packages (from torch>=1.10.0->recbole) (3.1.2)\n",
            "Requirement already satisfied: triton==2.0.0 in /usr/local/lib/python3.10/dist-packages (from torch>=1.10.0->recbole) (2.0.0)\n",
            "Requirement already satisfied: cmake in /usr/local/lib/python3.10/dist-packages (from triton==2.0.0->torch>=1.10.0->recbole) (3.27.6)\n",
            "Requirement already satisfied: lit in /usr/local/lib/python3.10/dist-packages (from triton==2.0.0->torch>=1.10.0->recbole) (17.0.2)\n",
            "Requirement already satisfied: cachetools<6.0,>=2.0.0 in /usr/local/lib/python3.10/dist-packages (from google-auth<3,>=1.6.3->tensorboard>=2.5.0->recbole) (5.3.1)\n",
            "Requirement already satisfied: pyasn1-modules>=0.2.1 in /usr/local/lib/python3.10/dist-packages (from google-auth<3,>=1.6.3->tensorboard>=2.5.0->recbole) (0.3.0)\n",
            "Requirement already satisfied: six>=1.9.0 in /usr/local/lib/python3.10/dist-packages (from google-auth<3,>=1.6.3->tensorboard>=2.5.0->recbole) (1.16.0)\n",
            "Requirement already satisfied: rsa<5,>=3.1.4 in /usr/local/lib/python3.10/dist-packages (from google-auth<3,>=1.6.3->tensorboard>=2.5.0->recbole) (4.9)\n",
            "Requirement already satisfied: requests-oauthlib>=0.7.0 in /usr/local/lib/python3.10/dist-packages (from google-auth-oauthlib<1.1,>=0.5->tensorboard>=2.5.0->recbole) (1.3.1)\n",
            "Requirement already satisfied: charset-normalizer<4,>=2 in /usr/local/lib/python3.10/dist-packages (from requests<3,>=2.21.0->tensorboard>=2.5.0->recbole) (3.3.0)\n",
            "Requirement already satisfied: idna<4,>=2.5 in /usr/local/lib/python3.10/dist-packages (from requests<3,>=2.21.0->tensorboard>=2.5.0->recbole) (3.4)\n",
            "Requirement already satisfied: urllib3<3,>=1.21.1 in /usr/local/lib/python3.10/dist-packages (from requests<3,>=2.21.0->tensorboard>=2.5.0->recbole) (2.0.6)\n",
            "Requirement already satisfied: certifi>=2017.4.17 in /usr/local/lib/python3.10/dist-packages (from requests<3,>=2.21.0->tensorboard>=2.5.0->recbole) (2023.7.22)\n",
            "Requirement already satisfied: MarkupSafe>=2.1.1 in /usr/local/lib/python3.10/dist-packages (from werkzeug>=1.0.1->tensorboard>=2.5.0->recbole) (2.1.3)\n",
            "Requirement already satisfied: mpmath>=0.19 in /usr/local/lib/python3.10/dist-packages (from sympy->torch>=1.10.0->recbole) (1.3.0)\n",
            "Requirement already satisfied: pyasn1<0.6.0,>=0.4.6 in /usr/local/lib/python3.10/dist-packages (from pyasn1-modules>=0.2.1->google-auth<3,>=1.6.3->tensorboard>=2.5.0->recbole) (0.5.0)\n",
            "Requirement already satisfied: oauthlib>=3.0.0 in /usr/local/lib/python3.10/dist-packages (from requests-oauthlib>=0.7.0->google-auth-oauthlib<1.1,>=0.5->tensorboard>=2.5.0->recbole) (3.2.2)\n"
          ]
        }
      ],
      "source": [
        "!pip install recbole"
      ]
    },
    {
      "cell_type": "markdown",
      "source": [
        "We also cover how you can use [Ray](https://docs.ray.io/en/latest/), an outstanding library used for several useful machine learning tasks, for performing hyperparameter tuning together with RecBole. Please note that even if you don't want to use Ray for hyperparameter tuning with RecBole, since some of the py files forming RecBole import this package, if you don't install it you might encounter ugly errors. To avoid this, we recommend installing Ray and trying to use this handy framework."
      ],
      "metadata": {
        "id": "Vazi5l89hkEx"
      }
    },
    {
      "cell_type": "code",
      "source": [
        "!pip install ray"
      ],
      "metadata": {
        "id": "yDR5X26S5VdU",
        "colab": {
          "base_uri": "https://localhost:8080/"
        },
        "outputId": "3b5b7e46-0853-4f8a-a8b1-8a5b1fc9e801"
      },
      "execution_count": 17,
      "outputs": [
        {
          "output_type": "stream",
          "name": "stdout",
          "text": [
            "Requirement already satisfied: ray in /usr/local/lib/python3.10/dist-packages (2.7.1)\n",
            "Requirement already satisfied: click>=7.0 in /usr/local/lib/python3.10/dist-packages (from ray) (8.1.7)\n",
            "Requirement already satisfied: filelock in /usr/local/lib/python3.10/dist-packages (from ray) (3.12.4)\n",
            "Requirement already satisfied: jsonschema in /usr/local/lib/python3.10/dist-packages (from ray) (4.19.1)\n",
            "Requirement already satisfied: msgpack<2.0.0,>=1.0.0 in /usr/local/lib/python3.10/dist-packages (from ray) (1.0.7)\n",
            "Requirement already satisfied: packaging in /usr/local/lib/python3.10/dist-packages (from ray) (23.2)\n",
            "Requirement already satisfied: protobuf!=3.19.5,>=3.15.3 in /usr/local/lib/python3.10/dist-packages (from ray) (3.20.3)\n",
            "Requirement already satisfied: pyyaml in /usr/local/lib/python3.10/dist-packages (from ray) (6.0.1)\n",
            "Requirement already satisfied: aiosignal in /usr/local/lib/python3.10/dist-packages (from ray) (1.3.1)\n",
            "Requirement already satisfied: frozenlist in /usr/local/lib/python3.10/dist-packages (from ray) (1.4.0)\n",
            "Requirement already satisfied: requests in /usr/local/lib/python3.10/dist-packages (from ray) (2.31.0)\n",
            "Requirement already satisfied: numpy>=1.19.3 in /usr/local/lib/python3.10/dist-packages (from ray) (1.23.5)\n",
            "Requirement already satisfied: attrs>=22.2.0 in /usr/local/lib/python3.10/dist-packages (from jsonschema->ray) (23.1.0)\n",
            "Requirement already satisfied: jsonschema-specifications>=2023.03.6 in /usr/local/lib/python3.10/dist-packages (from jsonschema->ray) (2023.7.1)\n",
            "Requirement already satisfied: referencing>=0.28.4 in /usr/local/lib/python3.10/dist-packages (from jsonschema->ray) (0.30.2)\n",
            "Requirement already satisfied: rpds-py>=0.7.1 in /usr/local/lib/python3.10/dist-packages (from jsonschema->ray) (0.10.4)\n",
            "Requirement already satisfied: charset-normalizer<4,>=2 in /usr/local/lib/python3.10/dist-packages (from requests->ray) (3.3.0)\n",
            "Requirement already satisfied: idna<4,>=2.5 in /usr/local/lib/python3.10/dist-packages (from requests->ray) (3.4)\n",
            "Requirement already satisfied: urllib3<3,>=1.21.1 in /usr/local/lib/python3.10/dist-packages (from requests->ray) (2.0.6)\n",
            "Requirement already satisfied: certifi>=2017.4.17 in /usr/local/lib/python3.10/dist-packages (from requests->ray) (2023.7.22)\n"
          ]
        }
      ]
    },
    {
      "cell_type": "markdown",
      "source": [
        "Next, we need to import the necessary packages from RecBole and also import torch. Note that here, we are importing all general recommenders in recbole which might not be the most efficient approach, but since we want to explore several models, we almost need them all."
      ],
      "metadata": {
        "id": "OUZB3S1LijJP"
      }
    },
    {
      "cell_type": "code",
      "source": [
        "from logging import getLogger\n",
        "from recbole.config import Config\n",
        "from recbole.data import create_dataset, data_preparation\n",
        "from recbole.model import general_recommender\n",
        "from recbole.trainer import Trainer\n",
        "from recbole.utils import init_seed, init_logger\n",
        "from recbole.utils import get_model, get_trainer\n",
        "import torch"
      ],
      "metadata": {
        "id": "wCMQ_FyZGDhp"
      },
      "execution_count": 1,
      "outputs": []
    },
    {
      "cell_type": "markdown",
      "source": [
        "in order to train a recommender model using recbole, you should specify the name of the model that you want to train, and the dataset on which you want to train the model. Next, you pass this config to \"create_dataset\" function to obtain a preprocessed dataset which will then be split using the \"data_preparation\" function. Finally, using the \"get_model\" method, by passing the train split of the dataset and the configurations, you make a model object. By passing the obtained model and config to the \"get_trainer\" method, you can construct a trainer object, and calling the \"fit\" method of this object, training process takes place. The function outputs the best validation score based on your metric of interest specified in the config dictionary, as well as the validation result which is a more comprehensive dictionary including more evaluation metrics evaluated on the validation split."
      ],
      "metadata": {
        "id": "sdnkVo_Fl0SG"
      }
    },
    {
      "cell_type": "code",
      "source": [
        "# configurations initialization\n",
        "device = torch.device('cuda' if torch.cuda.is_available() else 'cpu')\n",
        "\n",
        "config = Config(model='EASE', dataset='ml-100k')\n",
        "\n",
        "# init random seed\n",
        "init_seed(config['seed'], config['reproducibility'])\n",
        "\n",
        "# logger initialization\n",
        "init_logger(config)\n",
        "logger = getLogger()\n",
        "\n",
        "# write config info into log\n",
        "logger.info(config)\n",
        "\n",
        "# dataset creating and filtering\n",
        "dataset = create_dataset(config)\n",
        "logger.info(dataset)\n",
        "\n",
        "# dataset splitting\n",
        "train_data, valid_data, test_data = data_preparation(config, dataset)\n",
        "\n",
        "# model loading and initialization\n",
        "\n",
        "model = get_model(config['model'])(config, train_data.dataset).to(config['device'])\n",
        "logger.info(model)\n",
        "\n",
        "# trainer loading and initialization\n",
        "trainer = get_trainer(config['MODEL_TYPE'], config['model'])(config, model)\n",
        "\n",
        "# model training\n",
        "best_valid_score, best_valid_result = trainer.fit(train_data, valid_data)\n",
        "\n",
        "\n",
        "print(best_valid_score)\n",
        "print(best_valid_result)\n"
      ],
      "metadata": {
        "colab": {
          "base_uri": "https://localhost:8080/"
        },
        "id": "e0QYg2FETThQ",
        "outputId": "bf82b415-155b-4b33-8a0e-fe4174b76d42"
      },
      "execution_count": 2,
      "outputs": [
        {
          "output_type": "stream",
          "name": "stderr",
          "text": [
            "WARNING:root:command line args [-f /root/.local/share/jupyter/runtime/kernel-d1976877-ceea-4134-beca-5ae947abd54e.json] will not be used in RecBole\n"
          ]
        },
        {
          "output_type": "stream",
          "name": "stdout",
          "text": [
            "0.4201\n",
            "OrderedDict([('recall@10', 0.2389), ('mrr@10', 0.4201), ('ndcg@10', 0.2563), ('hit@10', 0.7847), ('precision@10', 0.1755)])\n"
          ]
        }
      ]
    },
    {
      "cell_type": "markdown",
      "source": [
        "By calling the \"evaluate\" method on the trainer object and passing in the test split of your dataset, you can obtain the test results."
      ],
      "metadata": {
        "id": "zTbCRYRenB5c"
      }
    },
    {
      "cell_type": "code",
      "source": [
        "# model evaluation\n",
        "test_result = trainer.evaluate(test_data)\n",
        "print(test_result)"
      ],
      "metadata": {
        "colab": {
          "base_uri": "https://localhost:8080/"
        },
        "id": "WxsgnJeLUQ0Z",
        "outputId": "cbb5122a-7335-4405-f343-123ee6c1413c"
      },
      "execution_count": 3,
      "outputs": [
        {
          "output_type": "stream",
          "name": "stdout",
          "text": [
            "OrderedDict([('recall@10', 0.2805), ('mrr@10', 0.5277), ('ndcg@10', 0.3295), ('hit@10', 0.8197), ('precision@10', 0.2206)])\n"
          ]
        }
      ]
    },
    {
      "cell_type": "markdown",
      "source": [
        "Now, let's specify a different model and experiment with it. As stated earlier, if you want to change the trained model, all you have to do is to specify a different value for the \"model\" key in your config dictionary. You can view a list of implemented models in the [RecBole](https://recbole.io/model_list.html) docs. Just make sure you are using the right model for your task of interest. There are four categories of models that recbole supports: general recommendation, sequential recommendation, context-aware recommendation and knowledge-based recommendation."
      ],
      "metadata": {
        "id": "rQQFTxpmnNBg"
      }
    },
    {
      "cell_type": "code",
      "source": [
        "config = Config(model='BPR', dataset='ml-100k')\n",
        "dataset = create_dataset(config)\n",
        "train_data, valid_data, test_data = data_preparation(config, dataset)\n",
        "model = get_model(config['model'])(config, train_data.dataset).to(config['device'])\n",
        "logger.info(model)\n",
        "# trainer loading and initialization\n",
        "trainer = get_trainer(config['MODEL_TYPE'], config['model'])(config, model)\n",
        "\n",
        "# model training\n",
        "best_valid_score, best_valid_result = trainer.fit(train_data, valid_data)\n",
        "\n",
        "\n",
        "print(best_valid_score)\n",
        "print(best_valid_result)\n"
      ],
      "metadata": {
        "colab": {
          "base_uri": "https://localhost:8080/"
        },
        "id": "sE9MFGZ4VBEF",
        "outputId": "05de3175-cee4-4977-cee9-d3d907664a83"
      },
      "execution_count": 4,
      "outputs": [
        {
          "output_type": "stream",
          "name": "stderr",
          "text": [
            "WARNING:root:command line args [-f /root/.local/share/jupyter/runtime/kernel-d1976877-ceea-4134-beca-5ae947abd54e.json] will not be used in RecBole\n"
          ]
        },
        {
          "output_type": "stream",
          "name": "stdout",
          "text": [
            "0.3993\n",
            "OrderedDict([('recall@10', 0.2207), ('mrr@10', 0.3993), ('ndcg@10', 0.2369), ('hit@10', 0.7582), ('precision@10', 0.1582)])\n"
          ]
        }
      ]
    },
    {
      "cell_type": "code",
      "source": [
        "test_result = trainer.evaluate(test_data)\n",
        "print(test_result)"
      ],
      "metadata": {
        "id": "DkligRTpAZ6h",
        "colab": {
          "base_uri": "https://localhost:8080/"
        },
        "outputId": "50266630-38d3-4597-c490-d5634eaf05f8"
      },
      "execution_count": 5,
      "outputs": [
        {
          "output_type": "stream",
          "name": "stdout",
          "text": [
            "OrderedDict([('recall@10', 0.2387), ('mrr@10', 0.4477), ('ndcg@10', 0.2831), ('hit@10', 0.7561), ('precision@10', 0.1982)])\n"
          ]
        }
      ]
    },
    {
      "cell_type": "markdown",
      "source": [
        "Let's have a closer look on config object. Config gives you the list of all knobs and levers that you have to control your recommender training process."
      ],
      "metadata": {
        "id": "GDyX2f00nzjm"
      }
    },
    {
      "cell_type": "code",
      "source": [
        "config"
      ],
      "metadata": {
        "colab": {
          "base_uri": "https://localhost:8080/"
        },
        "id": "xiPeQbEcVBYh",
        "outputId": "f1c39e93-93a7-4515-f232-5e8b96b985fa"
      },
      "execution_count": 6,
      "outputs": [
        {
          "output_type": "execute_result",
          "data": {
            "text/plain": [
              "\n",
              "\u001b[1;35mGeneral Hyper Parameters:\n",
              "\u001b[0m\u001b[1;36mgpu_id\u001b[0m =\u001b[1;33m 0\u001b[0m\n",
              "\u001b[1;36muse_gpu\u001b[0m =\u001b[1;33m True\u001b[0m\n",
              "\u001b[1;36mseed\u001b[0m =\u001b[1;33m 2020\u001b[0m\n",
              "\u001b[1;36mstate\u001b[0m =\u001b[1;33m INFO\u001b[0m\n",
              "\u001b[1;36mreproducibility\u001b[0m =\u001b[1;33m True\u001b[0m\n",
              "\u001b[1;36mdata_path\u001b[0m =\u001b[1;33m /usr/local/lib/python3.10/dist-packages/recbole/config/../dataset_example/ml-100k\u001b[0m\n",
              "\u001b[1;36mcheckpoint_dir\u001b[0m =\u001b[1;33m saved\u001b[0m\n",
              "\u001b[1;36mshow_progress\u001b[0m =\u001b[1;33m True\u001b[0m\n",
              "\u001b[1;36msave_dataset\u001b[0m =\u001b[1;33m False\u001b[0m\n",
              "\u001b[1;36mdataset_save_path\u001b[0m =\u001b[1;33m None\u001b[0m\n",
              "\u001b[1;36msave_dataloaders\u001b[0m =\u001b[1;33m False\u001b[0m\n",
              "\u001b[1;36mdataloaders_save_path\u001b[0m =\u001b[1;33m None\u001b[0m\n",
              "\u001b[1;36mlog_wandb\u001b[0m =\u001b[1;33m False\u001b[0m\n",
              "\n",
              "\u001b[1;35mTraining Hyper Parameters:\n",
              "\u001b[0m\u001b[1;36mepochs\u001b[0m =\u001b[1;33m 300\u001b[0m\n",
              "\u001b[1;36mtrain_batch_size\u001b[0m =\u001b[1;33m 2048\u001b[0m\n",
              "\u001b[1;36mlearner\u001b[0m =\u001b[1;33m adam\u001b[0m\n",
              "\u001b[1;36mlearning_rate\u001b[0m =\u001b[1;33m 0.001\u001b[0m\n",
              "\u001b[1;36mtrain_neg_sample_args\u001b[0m =\u001b[1;33m {'distribution': 'uniform', 'sample_num': 1, 'alpha': 1.0, 'dynamic': False, 'candidate_num': 0}\u001b[0m\n",
              "\u001b[1;36meval_step\u001b[0m =\u001b[1;33m 1\u001b[0m\n",
              "\u001b[1;36mstopping_step\u001b[0m =\u001b[1;33m 10\u001b[0m\n",
              "\u001b[1;36mclip_grad_norm\u001b[0m =\u001b[1;33m None\u001b[0m\n",
              "\u001b[1;36mweight_decay\u001b[0m =\u001b[1;33m 0.0\u001b[0m\n",
              "\u001b[1;36mloss_decimal_place\u001b[0m =\u001b[1;33m 4\u001b[0m\n",
              "\n",
              "\u001b[1;35mEvaluation Hyper Parameters:\n",
              "\u001b[0m\u001b[1;36meval_args\u001b[0m =\u001b[1;33m {'split': {'RS': [0.8, 0.1, 0.1]}, 'group_by': 'user', 'order': 'RO', 'mode': 'full'}\u001b[0m\n",
              "\u001b[1;36mrepeatable\u001b[0m =\u001b[1;33m False\u001b[0m\n",
              "\u001b[1;36mmetrics\u001b[0m =\u001b[1;33m ['Recall', 'MRR', 'NDCG', 'Hit', 'Precision']\u001b[0m\n",
              "\u001b[1;36mtopk\u001b[0m =\u001b[1;33m [10]\u001b[0m\n",
              "\u001b[1;36mvalid_metric\u001b[0m =\u001b[1;33m MRR@10\u001b[0m\n",
              "\u001b[1;36mvalid_metric_bigger\u001b[0m =\u001b[1;33m True\u001b[0m\n",
              "\u001b[1;36meval_batch_size\u001b[0m =\u001b[1;33m 4096\u001b[0m\n",
              "\u001b[1;36mmetric_decimal_place\u001b[0m =\u001b[1;33m 4\u001b[0m\n",
              "\n",
              "\u001b[1;35mDataset Hyper Parameters:\n",
              "\u001b[0m\u001b[1;36mfield_separator\u001b[0m =\u001b[1;33m \t\u001b[0m\n",
              "\u001b[1;36mseq_separator\u001b[0m =\u001b[1;33m  \u001b[0m\n",
              "\u001b[1;36mUSER_ID_FIELD\u001b[0m =\u001b[1;33m user_id\u001b[0m\n",
              "\u001b[1;36mITEM_ID_FIELD\u001b[0m =\u001b[1;33m item_id\u001b[0m\n",
              "\u001b[1;36mRATING_FIELD\u001b[0m =\u001b[1;33m rating\u001b[0m\n",
              "\u001b[1;36mTIME_FIELD\u001b[0m =\u001b[1;33m timestamp\u001b[0m\n",
              "\u001b[1;36mseq_len\u001b[0m =\u001b[1;33m None\u001b[0m\n",
              "\u001b[1;36mLABEL_FIELD\u001b[0m =\u001b[1;33m label\u001b[0m\n",
              "\u001b[1;36mthreshold\u001b[0m =\u001b[1;33m None\u001b[0m\n",
              "\u001b[1;36mNEG_PREFIX\u001b[0m =\u001b[1;33m neg_\u001b[0m\n",
              "\u001b[1;36mload_col\u001b[0m =\u001b[1;33m {'inter': ['user_id', 'item_id', 'rating', 'timestamp']}\u001b[0m\n",
              "\u001b[1;36munload_col\u001b[0m =\u001b[1;33m None\u001b[0m\n",
              "\u001b[1;36munused_col\u001b[0m =\u001b[1;33m None\u001b[0m\n",
              "\u001b[1;36madditional_feat_suffix\u001b[0m =\u001b[1;33m None\u001b[0m\n",
              "\u001b[1;36mrm_dup_inter\u001b[0m =\u001b[1;33m None\u001b[0m\n",
              "\u001b[1;36mval_interval\u001b[0m =\u001b[1;33m None\u001b[0m\n",
              "\u001b[1;36mfilter_inter_by_user_or_item\u001b[0m =\u001b[1;33m True\u001b[0m\n",
              "\u001b[1;36muser_inter_num_interval\u001b[0m =\u001b[1;33m None\u001b[0m\n",
              "\u001b[1;36mitem_inter_num_interval\u001b[0m =\u001b[1;33m None\u001b[0m\n",
              "\u001b[1;36malias_of_user_id\u001b[0m =\u001b[1;33m None\u001b[0m\n",
              "\u001b[1;36malias_of_item_id\u001b[0m =\u001b[1;33m None\u001b[0m\n",
              "\u001b[1;36malias_of_entity_id\u001b[0m =\u001b[1;33m None\u001b[0m\n",
              "\u001b[1;36malias_of_relation_id\u001b[0m =\u001b[1;33m None\u001b[0m\n",
              "\u001b[1;36mpreload_weight\u001b[0m =\u001b[1;33m None\u001b[0m\n",
              "\u001b[1;36mnormalize_field\u001b[0m =\u001b[1;33m None\u001b[0m\n",
              "\u001b[1;36mnormalize_all\u001b[0m =\u001b[1;33m True\u001b[0m\n",
              "\u001b[1;36mITEM_LIST_LENGTH_FIELD\u001b[0m =\u001b[1;33m item_length\u001b[0m\n",
              "\u001b[1;36mLIST_SUFFIX\u001b[0m =\u001b[1;33m _list\u001b[0m\n",
              "\u001b[1;36mMAX_ITEM_LIST_LENGTH\u001b[0m =\u001b[1;33m 50\u001b[0m\n",
              "\u001b[1;36mPOSITION_FIELD\u001b[0m =\u001b[1;33m position_id\u001b[0m\n",
              "\u001b[1;36mHEAD_ENTITY_ID_FIELD\u001b[0m =\u001b[1;33m head_id\u001b[0m\n",
              "\u001b[1;36mTAIL_ENTITY_ID_FIELD\u001b[0m =\u001b[1;33m tail_id\u001b[0m\n",
              "\u001b[1;36mRELATION_ID_FIELD\u001b[0m =\u001b[1;33m relation_id\u001b[0m\n",
              "\u001b[1;36mENTITY_ID_FIELD\u001b[0m =\u001b[1;33m entity_id\u001b[0m\n",
              "\u001b[1;36mkg_reverse_r\u001b[0m =\u001b[1;33m False\u001b[0m\n",
              "\u001b[1;36mentity_kg_num_interval\u001b[0m =\u001b[1;33m None\u001b[0m\n",
              "\u001b[1;36mrelation_kg_num_interval\u001b[0m =\u001b[1;33m None\u001b[0m\n",
              "\u001b[1;36mbenchmark_filename\u001b[0m =\u001b[1;33m None\u001b[0m\n",
              "\n",
              "\u001b[1;35mOther Hyper Parameters: \n",
              "\u001b[0m\u001b[1;36mworker\u001b[0m = \u001b[1;33m0\u001b[0m\n",
              "\u001b[1;36mwandb_project\u001b[0m = \u001b[1;33mrecbole\u001b[0m\n",
              "\u001b[1;36mshuffle\u001b[0m = \u001b[1;33mTrue\u001b[0m\n",
              "\u001b[1;36mrequire_pow\u001b[0m = \u001b[1;33mFalse\u001b[0m\n",
              "\u001b[1;36menable_amp\u001b[0m = \u001b[1;33mFalse\u001b[0m\n",
              "\u001b[1;36menable_scaler\u001b[0m = \u001b[1;33mFalse\u001b[0m\n",
              "\u001b[1;36mtransform\u001b[0m = \u001b[1;33mNone\u001b[0m\n",
              "\u001b[1;36membedding_size\u001b[0m = \u001b[1;33m64\u001b[0m\n",
              "\u001b[1;36mnumerical_features\u001b[0m = \u001b[1;33m[]\u001b[0m\n",
              "\u001b[1;36mdiscretization\u001b[0m = \u001b[1;33mNone\u001b[0m\n",
              "\u001b[1;36mMODEL_TYPE\u001b[0m = \u001b[1;33mModelType.GENERAL\u001b[0m\n",
              "\u001b[1;36mMODEL_INPUT_TYPE\u001b[0m = \u001b[1;33mInputType.PAIRWISE\u001b[0m\n",
              "\u001b[1;36meval_type\u001b[0m = \u001b[1;33mEvaluatorType.RANKING\u001b[0m\n",
              "\u001b[1;36msingle_spec\u001b[0m = \u001b[1;33mTrue\u001b[0m\n",
              "\u001b[1;36mlocal_rank\u001b[0m = \u001b[1;33m0\u001b[0m\n",
              "\u001b[1;36mdevice\u001b[0m = \u001b[1;33mcpu\u001b[0m\n",
              "\u001b[1;36meval_neg_sample_args\u001b[0m = \u001b[1;33m{'distribution': 'uniform', 'sample_num': 'none'}\u001b[0m\n"
            ]
          },
          "metadata": {},
          "execution_count": 6
        }
      ]
    },
    {
      "cell_type": "markdown",
      "source": [
        "You can easily try changing the default hyperparameters of the model or training process by accessing the corresponding key, value pair in the config dics. For instance, here, we will try changin the maximum number of epochs to 100, and the training batch size to 512 to see the influence on the training results."
      ],
      "metadata": {
        "id": "fPebVxUJALLG"
      }
    },
    {
      "cell_type": "code",
      "source": [
        "parameter_dict = {\n",
        "    'epochs' : 100,\n",
        "    'training_batch_size': 512\n",
        "}\n",
        "\n",
        "config = Config(model='BPR', dataset='ml-100k', config_dict=parameter_dict)\n",
        "dataset = create_dataset(config)\n",
        "print(dataset)"
      ],
      "metadata": {
        "colab": {
          "base_uri": "https://localhost:8080/"
        },
        "id": "EDTHbxIqxnar",
        "outputId": "7246e784-6a8d-4ad6-c373-32d1cac17dfa"
      },
      "execution_count": 7,
      "outputs": [
        {
          "output_type": "stream",
          "name": "stderr",
          "text": [
            "WARNING:root:command line args [-f /root/.local/share/jupyter/runtime/kernel-d1976877-ceea-4134-beca-5ae947abd54e.json] will not be used in RecBole\n"
          ]
        },
        {
          "output_type": "stream",
          "name": "stdout",
          "text": [
            "ml-100k\n",
            "The number of users: 944\n",
            "Average actions of users: 106.04453870625663\n",
            "The number of items: 1683\n",
            "Average actions of items: 59.45303210463734\n",
            "The number of inters: 100000\n",
            "The sparsity of the dataset: 93.70575143257098%\n",
            "Remain Fields: ['user_id', 'item_id', 'rating', 'timestamp']\n"
          ]
        }
      ]
    },
    {
      "cell_type": "markdown",
      "source": [
        "Also, instead of changing the config dict directly by changing its values, you can pass in the hyperparameters from a pre-saved yaml file. You can see the code for this usage below, but since we aren't using it here, it's commented out.\n",
        "\n"
      ],
      "metadata": {
        "id": "JopHFx8RA-J1"
      }
    },
    {
      "cell_type": "code",
      "source": [
        "#config = Config(model='BPR', dataset='ml-100k', config_file_list=['example.yaml'], config_dict=parameter_dict)"
      ],
      "metadata": {
        "id": "Fw10J1PCArDx"
      },
      "execution_count": null,
      "outputs": []
    },
    {
      "cell_type": "markdown",
      "source": [
        "What if we want to develop a new model and want to still use RecBole for its dataset pipeline, evaluator, etc.? You can easily define your own customized model following the instructions [here](https://recbole.io/docs/developer_guide/customize_models.html). All you have to do is to inherit from the proper abstract class (if your new recommender can be taxonomized in one of the recommender taxonomies that Recbole supports) and implement the required functions in your own model class."
      ],
      "metadata": {
        "id": "Gs9UqlAourBi"
      }
    },
    {
      "cell_type": "markdown",
      "source": [
        "# Using a New Dataset"
      ],
      "metadata": {
        "id": "hf1x3n4LDSze"
      }
    },
    {
      "cell_type": "markdown",
      "source": [
        "In order to characterize most forms of the input data required by different recommendation tasks, RecBole designs an input data format called Atomic Files and you need to convert your raw data into Atomic Files format before data loading.\n",
        "Recbole developers have created atomic files of 28 [commonly used datasets](https://recbole.io/dataset_list.html) that you can download and use them right away."
      ],
      "metadata": {
        "id": "FrgUzDPpDsoK"
      }
    },
    {
      "cell_type": "code",
      "source": [
        "parameter_dict = {\n",
        "    'epochs' : 10,\n",
        "    'training_batch_size': 512\n",
        "}\n",
        "\n",
        "config = Config(model='EASE', dataset='ml-1m', config_dict=parameter_dict)\n",
        "dataset = create_dataset(config)\n",
        "train_data, valid_data, test_data = data_preparation(config, dataset)\n",
        "model = get_model(config['model'])(config, train_data.dataset).to(config['device'])\n",
        "logger.info(model)\n",
        "# trainer loading and initialization\n",
        "trainer = get_trainer(config['MODEL_TYPE'], config['model'])(config, model)\n",
        "\n",
        "# model training\n",
        "best_valid_score, best_valid_result = trainer.fit(train_data, valid_data)\n",
        "\n",
        "\n",
        "print(best_valid_score)\n",
        "print(best_valid_result)"
      ],
      "metadata": {
        "colab": {
          "base_uri": "https://localhost:8080/"
        },
        "id": "sLHyGDjmjUJ4",
        "outputId": "f78b9e92-3ca5-4d4b-b6cb-b041598a3da8"
      },
      "execution_count": 8,
      "outputs": [
        {
          "output_type": "stream",
          "name": "stderr",
          "text": [
            "WARNING:root:command line args [-f /root/.local/share/jupyter/runtime/kernel-d1976877-ceea-4134-beca-5ae947abd54e.json] will not be used in RecBole\n"
          ]
        },
        {
          "output_type": "stream",
          "name": "stdout",
          "text": [
            "0.4266\n",
            "OrderedDict([('recall@10', 0.181), ('mrr@10', 0.4266), ('ndcg@10', 0.2407), ('hit@10', 0.7882), ('precision@10', 0.1823)])\n"
          ]
        }
      ]
    },
    {
      "cell_type": "markdown",
      "source": [
        "However, this automatic downloading tool appears to work improperly for some of the datasets that they have provided. It seems to be more proper to download the dataset files from the [recbole website](https://recbole.io/dataset_list.html), make a folder with the name \"dataset\" in your working directory, and copy the files there."
      ],
      "metadata": {
        "id": "P4qaFw7jx6uj"
      }
    },
    {
      "cell_type": "code",
      "source": [
        "test_result = trainer.evaluate(test_data)\n",
        "print(test_result)"
      ],
      "metadata": {
        "id": "xvdPAhyQx6D1",
        "colab": {
          "base_uri": "https://localhost:8080/"
        },
        "outputId": "42b15ce0-2ab4-4097-d1b2-87393c9f2bd4"
      },
      "execution_count": 9,
      "outputs": [
        {
          "output_type": "stream",
          "name": "stdout",
          "text": [
            "OrderedDict([('recall@10', 0.2005), ('mrr@10', 0.5108), ('ndcg@10', 0.2993), ('hit@10', 0.8033), ('precision@10', 0.2248)])\n"
          ]
        }
      ]
    },
    {
      "cell_type": "markdown",
      "source": [
        "Conversion of your own datasets into the format that RecBole accepts is also possible. You have to make your data follow the format indicated [here](https://recbole.io/atomic_files.html)."
      ],
      "metadata": {
        "id": "x280gQ2rpClD"
      }
    },
    {
      "cell_type": "markdown",
      "source": [
        "##Evaluation"
      ],
      "metadata": {
        "id": "v2e139z56NJ9"
      }
    },
    {
      "cell_type": "markdown",
      "source": [
        "RecBole supports most of the commonly-used ranking-based and value-based evaluation metrics. The supported ranking-based metrics include HR (hit ratio), NDCG, MRR, recall, MAP and precision, and value-based metrics include AUC, logloss, MAE and RMSE. You can specify your metrics of interest in the \"config\" object shown above.\n",
        "Currently, RecBole doesn't support beyond ranking and value metrics such as diversity, serendipity, etc. If you are interested in evaluating a model with such metrics, you can save and load the trained model and evaluate it yourself. Alternatively, you can define your own metric by creating a new metric class that inherits from the AbstractMetric class of RecBole. You can find the guidance for performing this [here](https://recbole.io/docs/developer_guide/customize_metrics.html). For more convenience, you can see how GAUC is defined by using the discussed abstraction in the line 223 of [metrcis.py](https://github.com/RUCAIBox/RecBole/blob/master/recbole/evaluator/metrics.py) source code and define your own metric class accordingly."
      ],
      "metadata": {
        "id": "jtbWcClRmVIL"
      }
    },
    {
      "cell_type": "markdown",
      "source": [
        "As an example of using different evaluation metrics available in Recbole, let's look at recall, mrr, ndcg, etc. at 1, 3 and 5 instead of 10 for the previous model. All we need to do is to specify a new 'topk' in the config dictionary. You have to be careful to also indicate a new 'valid_metric' which is the metric that RecBole uses for validation because it has to be one of the metrics that you have indicated in 'topk' list. The default value for 'valid_metric' is 'MRR@10' so, if we omit 10 from the topk list, we will encounter an error."
      ],
      "metadata": {
        "id": "WC1iNLzOvik5"
      }
    },
    {
      "cell_type": "code",
      "source": [
        "parameter_dict = {\n",
        "    'epochs' : 10,\n",
        "    'training_batch_size': 512,\n",
        "    'topk' : [1, 3, 5],\n",
        "    'valid_metric' : 'MRR@5'\n",
        "}\n",
        "\n",
        "config = Config(model='EASE', dataset='ml-1m', config_dict=parameter_dict)\n",
        "dataset = create_dataset(config)\n",
        "train_data, valid_data, test_data = data_preparation(config, dataset)\n",
        "model = get_model(config['model'])(config, train_data.dataset).to(config['device'])\n",
        "logger.info(model)\n",
        "# trainer loading and initialization\n",
        "trainer = get_trainer(config['MODEL_TYPE'], config['model'])(config, model)\n",
        "\n",
        "# model training\n",
        "best_valid_score, best_valid_result = trainer.fit(train_data, valid_data)\n",
        "\n",
        "\n",
        "print(best_valid_score)\n",
        "print(best_valid_result)"
      ],
      "metadata": {
        "id": "cB4w5oU8FMwI",
        "colab": {
          "base_uri": "https://localhost:8080/"
        },
        "outputId": "fc279b2a-cba2-4619-db3d-eebb28d3c578"
      },
      "execution_count": 10,
      "outputs": [
        {
          "output_type": "stream",
          "name": "stderr",
          "text": [
            "WARNING:root:command line args [-f /root/.local/share/jupyter/runtime/kernel-d1976877-ceea-4134-beca-5ae947abd54e.json] will not be used in RecBole\n"
          ]
        },
        {
          "output_type": "stream",
          "name": "stdout",
          "text": [
            "0.4011\n",
            "OrderedDict([('recall@1', 0.0311), ('recall@3', 0.0773), ('recall@5', 0.1118), ('mrr@1', 0.2631), ('mrr@3', 0.3724), ('mrr@5', 0.4011), ('ndcg@1', 0.2631), ('ndcg@3', 0.2394), ('ndcg@5', 0.2347), ('hit@1', 0.2631), ('hit@3', 0.5164), ('hit@5', 0.6406), ('precision@1', 0.2631), ('precision@3', 0.2283), ('precision@5', 0.21)])\n"
          ]
        }
      ]
    },
    {
      "cell_type": "markdown",
      "source": [
        "The same applies for evaluation on the test split:"
      ],
      "metadata": {
        "id": "6D-eCDFksb-j"
      }
    },
    {
      "cell_type": "code",
      "source": [
        "test_result = trainer.evaluate(test_data)\n",
        "print(test_result)"
      ],
      "metadata": {
        "colab": {
          "base_uri": "https://localhost:8080/"
        },
        "id": "O7cYnFmCwfHl",
        "outputId": "330c5602-1d61-4e55-dbf9-85b321df5f48"
      },
      "execution_count": 11,
      "outputs": [
        {
          "output_type": "stream",
          "name": "stdout",
          "text": [
            "OrderedDict([('recall@1', 0.0391), ('recall@3', 0.0924), ('recall@5', 0.13), ('mrr@1', 0.3677), ('mrr@3', 0.469), ('mrr@5', 0.4914), ('ndcg@1', 0.3677), ('ndcg@3', 0.3306), ('ndcg@5', 0.3137), ('hit@1', 0.3677), ('hit@3', 0.5978), ('hit@5', 0.6959), ('precision@1', 0.3677), ('precision@3', 0.3142), ('precision@5', 0.2792)])\n"
          ]
        }
      ]
    },
    {
      "cell_type": "markdown",
      "source": [
        "##Saving and Loading Models"
      ],
      "metadata": {
        "id": "u8EXrX8WzqmH"
      }
    },
    {
      "cell_type": "markdown",
      "source": [
        "When we run a trainer object from RecBole, it will save the best model parameters in training process and its corresponding config settings. If you want to save filtered dataset and split dataloaders, you can set parameter save_dataset and parameter save_dataloaders to True to save filtered dataset and split dataloaders. As an example, let us save the split datasets in the above example."
      ],
      "metadata": {
        "id": "P1CoeJLR2UBS"
      }
    },
    {
      "cell_type": "code",
      "source": [
        "parameter_dict = {\n",
        "    'epochs' : 10,\n",
        "    'training_batch_size': 512,\n",
        "    'topk' : [1, 3, 5],\n",
        "    'valid_metric' : 'MRR@5',\n",
        "    'save_dataloader' : True,\n",
        "    'save_dataset' : True\n",
        "}\n",
        "\n",
        "config = Config(model='EASE', dataset='ml-1m', config_dict=parameter_dict)\n",
        "dataset = create_dataset(config)\n",
        "train_data, valid_data, test_data = data_preparation(config, dataset)\n",
        "model = get_model(config['model'])(config, train_data.dataset).to(config['device'])\n",
        "logger.info(model)\n",
        "# trainer loading and initialization\n",
        "trainer = get_trainer(config['MODEL_TYPE'], config['model'])(config, model)\n",
        "\n",
        "# model training\n",
        "best_valid_score, best_valid_result = trainer.fit(train_data, valid_data)\n",
        "\n",
        "\n",
        "print(best_valid_score)\n",
        "print(best_valid_result)"
      ],
      "metadata": {
        "colab": {
          "base_uri": "https://localhost:8080/"
        },
        "id": "yNz-hzRmz4Vz",
        "outputId": "42119559-f3ae-4774-e195-d04148c8497c"
      },
      "execution_count": 12,
      "outputs": [
        {
          "output_type": "stream",
          "name": "stderr",
          "text": [
            "WARNING:root:command line args [-f /root/.local/share/jupyter/runtime/kernel-d1976877-ceea-4134-beca-5ae947abd54e.json] will not be used in RecBole\n"
          ]
        },
        {
          "output_type": "stream",
          "name": "stdout",
          "text": [
            "0.401\n",
            "OrderedDict([('recall@1', 0.0305), ('recall@3', 0.0757), ('recall@5', 0.1106), ('mrr@1', 0.2614), ('mrr@3', 0.3713), ('mrr@5', 0.401), ('ndcg@1', 0.2614), ('ndcg@3', 0.2422), ('ndcg@5', 0.2359), ('hit@1', 0.2614), ('hit@3', 0.5144), ('hit@5', 0.6447), ('precision@1', 0.2614), ('precision@3', 0.2316), ('precision@5', 0.2111)])\n"
          ]
        }
      ]
    },
    {
      "cell_type": "markdown",
      "source": [
        "Now in order to load the saved and filtered dataset and the best model according to our define validation metric, you can apply load_data_and_model() to get them."
      ],
      "metadata": {
        "id": "B4l3Tc304JI7"
      }
    },
    {
      "cell_type": "code",
      "source": [
        "from recbole.quick_start import load_data_and_model\n",
        "loaded_config, loaded_model, loaded_dataset, loaded_train_data, loaded_valid_data, loaded_test_data = load_data_and_model(\n",
        "    model_file='saved/EASE-Oct-15-2023_14-39-06.pth')\n",
        "# Here you can replace it by your model path.\n",
        "# And you can also pass 'dataset_file' and 'dataloader_file' to this function."
      ],
      "metadata": {
        "id": "KGIi3E9R4IXx"
      },
      "execution_count": 13,
      "outputs": []
    },
    {
      "cell_type": "code",
      "source": [
        "print(loaded_test_data.config)"
      ],
      "metadata": {
        "colab": {
          "base_uri": "https://localhost:8080/"
        },
        "id": "kVnTiBTTt3Zo",
        "outputId": "e6c4894b-7655-47cc-b320-3ceda0dfe754"
      },
      "execution_count": 14,
      "outputs": [
        {
          "output_type": "stream",
          "name": "stdout",
          "text": [
            "\n",
            "General Hyper Parameters:\n",
            "gpu_id = 0\n",
            "use_gpu = True\n",
            "seed = 2020\n",
            "state = INFO\n",
            "reproducibility = True\n",
            "data_path = dataset/ml-1m\n",
            "checkpoint_dir = saved\n",
            "show_progress = True\n",
            "save_dataset = True\n",
            "dataset_save_path = None\n",
            "save_dataloaders = False\n",
            "dataloaders_save_path = None\n",
            "log_wandb = False\n",
            "\n",
            "Training Hyper Parameters:\n",
            "epochs = 10\n",
            "train_batch_size = 2048\n",
            "learner = adam\n",
            "learning_rate = 0.001\n",
            "train_neg_sample_args = {'distribution': 'uniform', 'sample_num': 1, 'alpha': 1.0, 'dynamic': False, 'candidate_num': 0}\n",
            "eval_step = 1\n",
            "stopping_step = 10\n",
            "clip_grad_norm = None\n",
            "weight_decay = 0.0\n",
            "loss_decimal_place = 4\n",
            "\n",
            "Evaluation Hyper Parameters:\n",
            "eval_args = {'split': {'RS': [0.8, 0.1, 0.1]}, 'group_by': 'user', 'order': 'RO', 'mode': 'full'}\n",
            "repeatable = False\n",
            "metrics = ['Recall', 'MRR', 'NDCG', 'Hit', 'Precision']\n",
            "topk = [1, 3, 5]\n",
            "valid_metric = MRR@5\n",
            "valid_metric_bigger = True\n",
            "eval_batch_size = 4096\n",
            "metric_decimal_place = 4\n",
            "\n",
            "Dataset Hyper Parameters:\n",
            "field_separator = \t\n",
            "seq_separator =  \n",
            "USER_ID_FIELD = user_id\n",
            "ITEM_ID_FIELD = item_id\n",
            "RATING_FIELD = rating\n",
            "TIME_FIELD = timestamp\n",
            "seq_len = None\n",
            "LABEL_FIELD = label\n",
            "threshold = None\n",
            "NEG_PREFIX = neg_\n",
            "load_col = {'inter': ['user_id', 'item_id']}\n",
            "unload_col = None\n",
            "unused_col = None\n",
            "additional_feat_suffix = None\n",
            "rm_dup_inter = None\n",
            "val_interval = None\n",
            "filter_inter_by_user_or_item = True\n",
            "user_inter_num_interval = [0,inf)\n",
            "item_inter_num_interval = [0,inf)\n",
            "alias_of_user_id = None\n",
            "alias_of_item_id = None\n",
            "alias_of_entity_id = None\n",
            "alias_of_relation_id = None\n",
            "preload_weight = None\n",
            "normalize_field = None\n",
            "normalize_all = None\n",
            "ITEM_LIST_LENGTH_FIELD = item_length\n",
            "LIST_SUFFIX = _list\n",
            "MAX_ITEM_LIST_LENGTH = 50\n",
            "POSITION_FIELD = position_id\n",
            "HEAD_ENTITY_ID_FIELD = head_id\n",
            "TAIL_ENTITY_ID_FIELD = tail_id\n",
            "RELATION_ID_FIELD = relation_id\n",
            "ENTITY_ID_FIELD = entity_id\n",
            "kg_reverse_r = False\n",
            "entity_kg_num_interval = [0,inf)\n",
            "relation_kg_num_interval = [0,inf)\n",
            "benchmark_filename = None\n",
            "\n",
            "Other Hyper Parameters: \n",
            "worker = 0\n",
            "wandb_project = recbole\n",
            "shuffle = True\n",
            "require_pow = False\n",
            "enable_amp = False\n",
            "enable_scaler = False\n",
            "transform = None\n",
            "reg_weight = 250.0\n",
            "numerical_features = []\n",
            "discretization = None\n",
            "MODEL_TYPE = ModelType.TRADITIONAL\n",
            "training_batch_size = 512\n",
            "save_dataloader = True\n",
            "MODEL_INPUT_TYPE = InputType.POINTWISE\n",
            "eval_type = EvaluatorType.RANKING\n",
            "single_spec = True\n",
            "local_rank = 0\n",
            "device = cpu\n",
            "eval_neg_sample_args = {'distribution': 'uniform', 'sample_num': 'none'}\n",
            "\n",
            "\n"
          ]
        }
      ]
    },
    {
      "cell_type": "markdown",
      "source": [
        "## Hyperparamter Tuning with RecBole"
      ],
      "metadata": {
        "id": "MER42VkFlz5V"
      }
    },
    {
      "cell_type": "markdown",
      "source": [
        "Tuning hyperparameters is an essential part of training ML models and recommender systems are no exception. Recbole has an internal hyperparamter tuner, but we suggest you use more stable hyperparameter tuning packages like Ray or Wandb. In this notebook, we will show an example of using Ray for tuning your recommender's hyperparameters.\n",
        "\n",
        "First, let's import an initialize a ray agentand import the necessary packages and files."
      ],
      "metadata": {
        "id": "N6fiM-1hyWFh"
      }
    },
    {
      "cell_type": "code",
      "source": [
        "from recbole.trainer import HyperTuning\n",
        "from recbole.quick_start import objective_function\n",
        "\n"
      ],
      "metadata": {
        "id": "n7GhW0mGo13N"
      },
      "execution_count": 2,
      "outputs": []
    },
    {
      "cell_type": "code",
      "source": [
        "import ray\n",
        "ray.init()"
      ],
      "metadata": {
        "id": "nqyKvb-I6O8b",
        "colab": {
          "base_uri": "https://localhost:8080/",
          "height": 77
        },
        "outputId": "8b517c07-c4e0-4bd1-a070-f3be684519dd"
      },
      "execution_count": 3,
      "outputs": [
        {
          "output_type": "stream",
          "name": "stderr",
          "text": [
            "2023-10-15 15:24:44,950\tINFO worker.py:1642 -- Started a local Ray instance.\n"
          ]
        },
        {
          "output_type": "execute_result",
          "data": {
            "text/plain": [
              "RayContext(dashboard_url='', python_version='3.10.12', ray_version='2.7.1', ray_commit='9f07c12615958c3af3760604f6dcacc4b3758a47', protocol_version=None)"
            ],
            "text/html": [
              "<div class=\"lm-Widget p-Widget lm-Panel p-Panel jp-Cell-outputWrapper\">\n",
              "    <div style=\"margin-left: 50px;display: flex;flex-direction: row;align-items: center\">\n",
              "        <div class=\"jp-RenderedHTMLCommon\" style=\"display: flex; flex-direction: row;\">\n",
              "  <svg viewBox=\"0 0 567 224\" fill=\"none\" xmlns=\"http://www.w3.org/2000/svg\" style=\"height: 3em;\">\n",
              "    <g clip-path=\"url(#clip0_4338_178347)\">\n",
              "        <path d=\"M341.29 165.561H355.29L330.13 129.051C345.63 123.991 354.21 112.051 354.21 94.2307C354.21 71.3707 338.72 58.1807 311.88 58.1807H271V165.561H283.27V131.661H311.8C314.25 131.661 316.71 131.501 319.01 131.351L341.25 165.561H341.29ZM283.29 119.851V70.0007H311.82C331.3 70.0007 342.34 78.2907 342.34 94.5507C342.34 111.271 331.34 119.861 311.82 119.861L283.29 119.851ZM451.4 138.411L463.4 165.561H476.74L428.74 58.1807H416L367.83 165.561H380.83L392.83 138.411H451.4ZM446.19 126.601H398L422 72.1407L446.24 126.601H446.19ZM526.11 128.741L566.91 58.1807H554.35L519.99 114.181L485.17 58.1807H472.44L514.01 129.181V165.541H526.13V128.741H526.11Z\" fill=\"var(--jp-ui-font-color0)\"/>\n",
              "        <path d=\"M82.35 104.44C84.0187 97.8827 87.8248 92.0678 93.1671 87.9146C98.5094 83.7614 105.083 81.5067 111.85 81.5067C118.617 81.5067 125.191 83.7614 130.533 87.9146C135.875 92.0678 139.681 97.8827 141.35 104.44H163.75C164.476 101.562 165.622 98.8057 167.15 96.2605L127.45 56.5605C121.071 60.3522 113.526 61.6823 106.235 60.3005C98.9443 58.9187 92.4094 54.9203 87.8602 49.0574C83.3109 43.1946 81.0609 35.8714 81.5332 28.4656C82.0056 21.0599 85.1679 14.0819 90.4252 8.8446C95.6824 3.60726 102.672 0.471508 110.08 0.0272655C117.487 -0.416977 124.802 1.86091 130.647 6.4324C136.493 11.0039 140.467 17.5539 141.821 24.8501C143.175 32.1463 141.816 39.6859 138 46.0505L177.69 85.7505C182.31 82.9877 187.58 81.4995 192.962 81.4375C198.345 81.3755 203.648 82.742 208.33 85.3976C213.012 88.0532 216.907 91.9029 219.616 96.5544C222.326 101.206 223.753 106.492 223.753 111.875C223.753 117.258 222.326 122.545 219.616 127.197C216.907 131.848 213.012 135.698 208.33 138.353C203.648 141.009 198.345 142.375 192.962 142.313C187.58 142.251 182.31 140.763 177.69 138L138 177.7C141.808 184.071 143.155 191.614 141.79 198.91C140.424 206.205 136.44 212.75 130.585 217.313C124.731 221.875 117.412 224.141 110.004 223.683C102.596 223.226 95.6103 220.077 90.3621 214.828C85.1139 209.58 81.9647 202.595 81.5072 195.187C81.0497 187.779 83.3154 180.459 87.878 174.605C92.4405 168.751 98.9853 164.766 106.281 163.401C113.576 162.035 121.119 163.383 127.49 167.19L167.19 127.49C165.664 124.941 164.518 122.182 163.79 119.3H141.39C139.721 125.858 135.915 131.673 130.573 135.826C125.231 139.98 118.657 142.234 111.89 142.234C105.123 142.234 98.5494 139.98 93.2071 135.826C87.8648 131.673 84.0587 125.858 82.39 119.3H60C58.1878 126.495 53.8086 132.78 47.6863 136.971C41.5641 141.163 34.1211 142.972 26.7579 142.059C19.3947 141.146 12.6191 137.574 7.70605 132.014C2.79302 126.454 0.0813599 119.29 0.0813599 111.87C0.0813599 104.451 2.79302 97.2871 7.70605 91.7272C12.6191 86.1673 19.3947 82.5947 26.7579 81.6817C34.1211 80.7686 41.5641 82.5781 47.6863 86.7696C53.8086 90.9611 58.1878 97.2456 60 104.44H82.35ZM100.86 204.32C103.407 206.868 106.759 208.453 110.345 208.806C113.93 209.159 117.527 208.258 120.522 206.256C123.517 204.254 125.725 201.276 126.771 197.828C127.816 194.38 127.633 190.677 126.253 187.349C124.874 184.021 122.383 181.274 119.205 179.577C116.027 177.88 112.359 177.337 108.826 178.042C105.293 178.746 102.113 180.654 99.8291 183.44C97.5451 186.226 96.2979 189.718 96.3 193.32C96.2985 195.364 96.7006 197.388 97.4831 199.275C98.2656 201.163 99.4132 202.877 100.86 204.32ZM204.32 122.88C206.868 120.333 208.453 116.981 208.806 113.396C209.159 109.811 208.258 106.214 206.256 103.219C204.254 100.223 201.275 98.0151 197.827 96.97C194.38 95.9249 190.676 96.1077 187.348 97.4873C184.02 98.8669 181.274 101.358 179.577 104.536C177.879 107.714 177.337 111.382 178.041 114.915C178.746 118.448 180.653 121.627 183.439 123.911C186.226 126.195 189.717 127.443 193.32 127.44C195.364 127.443 197.388 127.042 199.275 126.259C201.163 125.476 202.878 124.328 204.32 122.88ZM122.88 19.4205C120.333 16.8729 116.981 15.2876 113.395 14.9347C109.81 14.5817 106.213 15.483 103.218 17.4849C100.223 19.4868 98.0146 22.4654 96.9696 25.9131C95.9245 29.3608 96.1073 33.0642 97.4869 36.3922C98.8665 39.7202 101.358 42.4668 104.535 44.1639C107.713 45.861 111.381 46.4036 114.914 45.6992C118.447 44.9949 121.627 43.0871 123.911 40.301C126.195 37.515 127.442 34.0231 127.44 30.4205C127.44 28.3772 127.038 26.3539 126.255 24.4664C125.473 22.5788 124.326 20.8642 122.88 19.4205ZM19.42 100.86C16.8725 103.408 15.2872 106.76 14.9342 110.345C14.5813 113.93 15.4826 117.527 17.4844 120.522C19.4863 123.518 22.4649 125.726 25.9127 126.771C29.3604 127.816 33.0638 127.633 36.3918 126.254C39.7198 124.874 42.4664 122.383 44.1635 119.205C45.8606 116.027 46.4032 112.359 45.6988 108.826C44.9944 105.293 43.0866 102.114 40.3006 99.8296C37.5145 97.5455 34.0227 96.2983 30.42 96.3005C26.2938 96.3018 22.337 97.9421 19.42 100.86ZM100.86 100.86C98.3125 103.408 96.7272 106.76 96.3742 110.345C96.0213 113.93 96.9226 117.527 98.9244 120.522C100.926 123.518 103.905 125.726 107.353 126.771C110.8 127.816 114.504 127.633 117.832 126.254C121.16 124.874 123.906 122.383 125.604 119.205C127.301 116.027 127.843 112.359 127.139 108.826C126.434 105.293 124.527 102.114 121.741 99.8296C118.955 97.5455 115.463 96.2983 111.86 96.3005C109.817 96.299 107.793 96.701 105.905 97.4835C104.018 98.2661 102.303 99.4136 100.86 100.86Z\" fill=\"#00AEEF\"/>\n",
              "    </g>\n",
              "    <defs>\n",
              "        <clipPath id=\"clip0_4338_178347\">\n",
              "            <rect width=\"566.93\" height=\"223.75\" fill=\"white\"/>\n",
              "        </clipPath>\n",
              "    </defs>\n",
              "  </svg>\n",
              "</div>\n",
              "\n",
              "        <table class=\"jp-RenderedHTMLCommon\" style=\"border-collapse: collapse;color: var(--jp-ui-font-color1);font-size: var(--jp-ui-font-size1);\">\n",
              "    <tr>\n",
              "        <td style=\"text-align: left\"><b>Python version:</b></td>\n",
              "        <td style=\"text-align: left\"><b>3.10.12</b></td>\n",
              "    </tr>\n",
              "    <tr>\n",
              "        <td style=\"text-align: left\"><b>Ray version:</b></td>\n",
              "        <td style=\"text-align: left\"><b>2.7.1</b></td>\n",
              "    </tr>\n",
              "    \n",
              "</table>\n",
              "\n",
              "    </div>\n",
              "</div>\n"
            ]
          },
          "metadata": {},
          "execution_count": 3
        }
      ]
    },
    {
      "cell_type": "code",
      "source": [
        "import os\n",
        "import numpy as np\n",
        "\n",
        "from recbole.trainer import HyperTuning\n",
        "from recbole.quick_start import objective_function\n",
        "from ray import tune\n",
        "from ray.tune.schedulers import ASHAScheduler\n",
        "import math"
      ],
      "metadata": {
        "id": "BlV9UmukeeC1"
      },
      "execution_count": 4,
      "outputs": []
    },
    {
      "cell_type": "markdown",
      "source": [
        "In order to perform hp tuning, we should have an objective function as the one defined below. Please note that we have adjusted this function to work with ray and the original objective function implemented in the recbole's repository doesn't report the validation metric to ray. If you want to tune on another metric, please make sure you are reporting it at the end of this function as well."
      ],
      "metadata": {
        "id": "s5bb0zP_y9zx"
      }
    },
    {
      "cell_type": "code",
      "source": [
        "def objective_function(config_dict=None, config_file_list=None):\n",
        "\n",
        "    config = Config(config_dict=config_dict, config_file_list=config_file_list)\n",
        "    #init_seed(config['seed'])\n",
        "    #init_seed(np.random.RandomState(config['seed']))\n",
        "\n",
        "    dataset = create_dataset(config)\n",
        "    train_data, valid_data, test_data = data_preparation(config, dataset)\n",
        "    model_name = config['model']\n",
        "    model = get_model(model_name)(config, train_data._dataset).to(config['device'])\n",
        "    trainer = get_trainer(config['MODEL_TYPE'], config['model'])(config, model)\n",
        "    best_valid_score, best_valid_result = trainer.fit(train_data, valid_data, verbose=False)\n",
        "    test_result = trainer.evaluate(test_data)\n",
        "\n",
        "    return {\n",
        "        'model': model_name,\n",
        "        'best_valid_score': best_valid_score,\n",
        "        'valid_score_bigger': config['valid_metric_bigger'],\n",
        "        'best_valid_result': best_valid_result,\n",
        "        'test_result': test_result,\n",
        "        'mrr@10': best_valid_result['mrr@10']\n",
        "    }"
      ],
      "metadata": {
        "id": "LkHRXoWtBUvp"
      },
      "execution_count": 5,
      "outputs": []
    },
    {
      "cell_type": "markdown",
      "source": [
        "Finally, define the ray_tune function and run the tuning jobs. We specify the model and dataset (and other training non-tuned hyperparameter configurations) in \"example.yaml\" file, and specify the tuned hyperparameters and their ranges and selection methods in the \"hyper.test\" file. Make sure that these files are in your current working directory."
      ],
      "metadata": {
        "id": "67PNbSo3zZuj"
      }
    },
    {
      "cell_type": "code",
      "source": [
        "def ray_tune(params_file, config_file):\n",
        "\n",
        "      output_file = 'hyper_example.result'\n",
        "      params_file = (os.path.join(os.getcwd(), params_file))\n",
        "      config_file_list = [os.path.join(os.getcwd(), config_file)]\n",
        "      #ray.init()\n",
        "      tune.register_trainable(\"train_func\", objective_function)\n",
        "      config = {}\n",
        "      with open(params_file, \"r\") as fp:\n",
        "        for line in fp:\n",
        "            para_list = line.strip().split(\" \")\n",
        "            if len(para_list) < 3:\n",
        "                continue\n",
        "            para_name, para_type, para_value = (\n",
        "                para_list[0],\n",
        "                para_list[1],\n",
        "                \"\".join(para_list[2:]),\n",
        "            )\n",
        "            if para_type == \"choice\":\n",
        "                para_value = eval(para_value)\n",
        "                config[para_name] = tune.choice(para_value)\n",
        "            elif para_type == \"uniform\":\n",
        "                low, high = para_value.strip().split(\",\")\n",
        "                config[para_name] = tune.uniform(float(low), float(high))\n",
        "            elif para_type == \"quniform\":\n",
        "                low, high, q = para_value.strip().split(\",\")\n",
        "                config[para_name] = tune.quniform(float(low), float(high), float(q))\n",
        "            elif para_type == \"loguniform\":\n",
        "                low, high = para_value.strip().split(\",\")\n",
        "                config[para_name] = tune.loguniform(\n",
        "                    math.exp(float(low)), math.exp(float(high))\n",
        "                )\n",
        "            else:\n",
        "                raise ValueError(\"Illegal param type [{}]\".format(para_type))\n",
        "      scheduler = ASHAScheduler(\n",
        "        metric=\"mrr@10\", mode=\"max\", max_t=10, grace_period=1, reduction_factor=2)\n",
        "\n",
        "      #local_dir = \"./ray_log\"\n",
        "      local_dir = os.path.join(os.getcwd(), \"./ray_log\")\n",
        "\n",
        "      result = tune.run(\n",
        "        tune.with_parameters(objective_function, config_file_list=config_file_list),\n",
        "        config=config,\n",
        "        num_samples=5,\n",
        "        log_to_file=output_file,\n",
        "        scheduler=scheduler,\n",
        "        local_dir=local_dir,\n",
        "        resources_per_trial={\"cpu\": 1},\n",
        "    )\n",
        "\n",
        "      best_trial = result.get_best_trial(\"mrr@10\", \"max\", \"last\")\n",
        "      print(\"best params: \", best_trial.config)\n",
        "      print(\"best result: \", best_trial.last_result)\n"
      ],
      "metadata": {
        "id": "ftBVlP8TfkE7"
      },
      "execution_count": 6,
      "outputs": []
    },
    {
      "cell_type": "code",
      "source": [
        "ray_tune('hyper.test', 'example.yaml')"
      ],
      "metadata": {
        "colab": {
          "base_uri": "https://localhost:8080/"
        },
        "id": "VyqGK853yg5Z",
        "outputId": "426b93ef-1aeb-4c77-a9e1-2fc19f68e079"
      },
      "execution_count": 7,
      "outputs": [
        {
          "output_type": "stream",
          "name": "stderr",
          "text": [
            "2023-10-15 15:24:55,512\tINFO tune.py:654 -- [output] This will use the new output engine with verbosity 2. To disable the new output and use the legacy output engine, set the environment variable RAY_AIR_NEW_OUTPUT=0. For more information, please see https://github.com/ray-project/ray/issues/36949\n",
            "2023-10-15 15:24:55,524\tINFO tensorboardx.py:178 -- pip install \"ray[tune]\" to see TensorBoard files.\n",
            "2023-10-15 15:24:55,525\tWARNING callback.py:137 -- The TensorboardX logger cannot be instantiated because either TensorboardX or one of it's dependencies is not installed. Please make sure you have the latest version of TensorboardX installed: `pip install -U tensorboardx`\n"
          ]
        },
        {
          "output_type": "stream",
          "name": "stdout",
          "text": [
            "+---------------------------------------------------------------------------+\n",
            "| Configuration for experiment     objective_function_2023-10-15_15-24-55   |\n",
            "+---------------------------------------------------------------------------+\n",
            "| Search algorithm                 BasicVariantGenerator                    |\n",
            "| Scheduler                        AsyncHyperBandScheduler                  |\n",
            "| Number of trials                 5                                        |\n",
            "+---------------------------------------------------------------------------+\n",
            "\n",
            "View detailed results here: /content/ray_log/objective_function_2023-10-15_15-24-55\n",
            "\n",
            "Trial status: 5 PENDING\n",
            "Current time: 2023-10-15 15:24:55. Total running time: 0s\n",
            "Logical resource usage: 0/2 CPUs, 0/0 GPUs\n",
            "+--------------------------------------------------------------------------------+\n",
            "| Trial name                       status       learning_rate     embedding_size |\n",
            "+--------------------------------------------------------------------------------+\n",
            "| objective_function_fe7cc_00000   PENDING        0.0372278                    8 |\n",
            "| objective_function_fe7cc_00001   PENDING        0.00579696                   8 |\n",
            "| objective_function_fe7cc_00002   PENDING        0.000582455                 32 |\n",
            "| objective_function_fe7cc_00003   PENDING        0.000360557                 16 |\n",
            "| objective_function_fe7cc_00004   PENDING        0.00133134                  16 |\n",
            "+--------------------------------------------------------------------------------+\n"
          ]
        },
        {
          "output_type": "stream",
          "name": "stderr",
          "text": [
            "\u001b[2m\u001b[36m(pid=24554)\u001b[0m 2023-10-15 15:25:06.256506: W tensorflow/compiler/tf2tensorrt/utils/py_utils.cc:38] TF-TRT Warning: Could not find TensorRT\n"
          ]
        },
        {
          "output_type": "stream",
          "name": "stdout",
          "text": [
            "\n",
            "Trial objective_function_fe7cc_00001 started with configuration:\n",
            "+--------------------------------------------------------+\n",
            "| Trial objective_function_fe7cc_00001 config            |\n",
            "+--------------------------------------------------------+\n",
            "| embedding_size                                       8 |\n",
            "| learning_rate                                   0.0058 |\n",
            "+--------------------------------------------------------+\n",
            "\n",
            "Trial objective_function_fe7cc_00000 started with configuration:\n",
            "+---------------------------------------------------------+\n",
            "| Trial objective_function_fe7cc_00000 config             |\n",
            "+---------------------------------------------------------+\n",
            "| embedding_size                                        8 |\n",
            "| learning_rate                                   0.03723 |\n",
            "+---------------------------------------------------------+\n",
            "\n",
            "Trial status: 2 RUNNING | 3 PENDING\n",
            "Current time: 2023-10-15 15:25:25. Total running time: 30s\n",
            "Logical resource usage: 2.0/2 CPUs, 0/0 GPUs\n",
            "+--------------------------------------------------------------------------------+\n",
            "| Trial name                       status       learning_rate     embedding_size |\n",
            "+--------------------------------------------------------------------------------+\n",
            "| objective_function_fe7cc_00000   RUNNING        0.0372278                    8 |\n",
            "| objective_function_fe7cc_00001   RUNNING        0.00579696                   8 |\n",
            "| objective_function_fe7cc_00002   PENDING        0.000582455                 32 |\n",
            "| objective_function_fe7cc_00003   PENDING        0.000360557                 16 |\n",
            "| objective_function_fe7cc_00004   PENDING        0.00133134                  16 |\n",
            "+--------------------------------------------------------------------------------+\n",
            "\n",
            "Trial objective_function_fe7cc_00000 finished iteration 1 at 2023-10-15 15:25:45. Total running time: 49s\n",
            "+----------------------------------------------------------+\n",
            "| Trial objective_function_fe7cc_00000 result              |\n",
            "+----------------------------------------------------------+\n",
            "| checkpoint_dir_name                                      |\n",
            "| time_this_iter_s                                34.40819 |\n",
            "| time_total_s                                    34.40819 |\n",
            "| training_iteration                                     1 |\n",
            "| best_valid_result/hit@10                          0.6713 |\n",
            "| best_valid_result/mrr@10                          0.3445 |\n",
            "| best_valid_result/ndcg@10                         0.1916 |\n",
            "| best_valid_result/precision@10                    0.1348 |\n",
            "| best_valid_result/recall@10                       0.1701 |\n",
            "| best_valid_score                                  0.3445 |\n",
            "| model                                                BPR |\n",
            "| mrr@10                                            0.3445 |\n",
            "| test_result/hit@10                                0.7073 |\n",
            "| test_result/mrr@10                                0.3821 |\n",
            "| test_result/ndcg@10                                0.228 |\n",
            "| test_result/precision@10                          0.1611 |\n",
            "| test_result/recall@10                             0.1987 |\n",
            "| valid_score_bigger                                  True |\n",
            "+----------------------------------------------------------+\n",
            "\n",
            "Trial objective_function_fe7cc_00000 completed after 1 iterations at 2023-10-15 15:25:45. Total running time: 49s\n",
            "\n",
            "Trial objective_function_fe7cc_00002 started with configuration:\n",
            "+---------------------------------------------------------+\n",
            "| Trial objective_function_fe7cc_00002 config             |\n",
            "+---------------------------------------------------------+\n",
            "| embedding_size                                       32 |\n",
            "| learning_rate                                   0.00058 |\n",
            "+---------------------------------------------------------+\n",
            "\n",
            "Trial objective_function_fe7cc_00001 finished iteration 1 at 2023-10-15 15:25:52. Total running time: 56s\n",
            "+----------------------------------------------------------+\n",
            "| Trial objective_function_fe7cc_00001 result              |\n",
            "+----------------------------------------------------------+\n",
            "| checkpoint_dir_name                                      |\n",
            "| time_this_iter_s                                41.58388 |\n",
            "| time_total_s                                    41.58388 |\n",
            "| training_iteration                                     1 |\n",
            "| best_valid_result/hit@10                          0.7296 |\n",
            "| best_valid_result/mrr@10                          0.3724 |\n",
            "| best_valid_result/ndcg@10                         0.2157 |\n",
            "| best_valid_result/precision@10                    0.1489 |\n",
            "| best_valid_result/recall@10                       0.1968 |\n",
            "| best_valid_score                                  0.3724 |\n",
            "| model                                                BPR |\n",
            "| mrr@10                                            0.3724 |\n",
            "| test_result/hit@10                                 0.754 |\n",
            "| test_result/mrr@10                                0.4283 |\n",
            "| test_result/ndcg@10                               0.2633 |\n",
            "| test_result/precision@10                          0.1826 |\n",
            "| test_result/recall@10                             0.2311 |\n",
            "| valid_score_bigger                                  True |\n",
            "+----------------------------------------------------------+\n",
            "\n",
            "Trial objective_function_fe7cc_00001 completed after 1 iterations at 2023-10-15 15:25:52. Total running time: 56s\n",
            "\n",
            "Trial objective_function_fe7cc_00003 started with configuration:\n",
            "+---------------------------------------------------------+\n",
            "| Trial objective_function_fe7cc_00003 config             |\n",
            "+---------------------------------------------------------+\n",
            "| embedding_size                                       16 |\n",
            "| learning_rate                                   0.00036 |\n",
            "+---------------------------------------------------------+\n",
            "\n",
            "Trial status: 2 TERMINATED | 2 RUNNING | 1 PENDING\n",
            "Current time: 2023-10-15 15:25:55. Total running time: 1min 0s\n",
            "Logical resource usage: 2.0/2 CPUs, 0/0 GPUs\n",
            "+----------------------------------------------------------------------------------------------------------------------------------------------+\n",
            "| Trial name                       status         learning_rate     embedding_size     iter     total time (s)     best_valid_score     mrr@10 |\n",
            "+----------------------------------------------------------------------------------------------------------------------------------------------+\n",
            "| objective_function_fe7cc_00002   RUNNING          0.000582455                 32                                                             |\n",
            "| objective_function_fe7cc_00003   RUNNING          0.000360557                 16                                                             |\n",
            "| objective_function_fe7cc_00000   TERMINATED       0.0372278                    8        1            34.4082               0.3445     0.3445 |\n",
            "| objective_function_fe7cc_00001   TERMINATED       0.00579696                   8        1            41.5839               0.3724     0.3724 |\n",
            "| objective_function_fe7cc_00004   PENDING          0.00133134                  16                                                             |\n",
            "+----------------------------------------------------------------------------------------------------------------------------------------------+\n",
            "Trial status: 2 TERMINATED | 2 RUNNING | 1 PENDING\n",
            "Current time: 2023-10-15 15:26:25. Total running time: 1min 30s\n",
            "Logical resource usage: 2.0/2 CPUs, 0/0 GPUs\n",
            "+----------------------------------------------------------------------------------------------------------------------------------------------+\n",
            "| Trial name                       status         learning_rate     embedding_size     iter     total time (s)     best_valid_score     mrr@10 |\n",
            "+----------------------------------------------------------------------------------------------------------------------------------------------+\n",
            "| objective_function_fe7cc_00002   RUNNING          0.000582455                 32                                                             |\n",
            "| objective_function_fe7cc_00003   RUNNING          0.000360557                 16                                                             |\n",
            "| objective_function_fe7cc_00000   TERMINATED       0.0372278                    8        1            34.4082               0.3445     0.3445 |\n",
            "| objective_function_fe7cc_00001   TERMINATED       0.00579696                   8        1            41.5839               0.3724     0.3724 |\n",
            "| objective_function_fe7cc_00004   PENDING          0.00133134                  16                                                             |\n",
            "+----------------------------------------------------------------------------------------------------------------------------------------------+\n",
            "Trial status: 2 TERMINATED | 2 RUNNING | 1 PENDING\n",
            "Current time: 2023-10-15 15:26:55. Total running time: 2min 0s\n",
            "Logical resource usage: 2.0/2 CPUs, 0/0 GPUs\n",
            "+----------------------------------------------------------------------------------------------------------------------------------------------+\n",
            "| Trial name                       status         learning_rate     embedding_size     iter     total time (s)     best_valid_score     mrr@10 |\n",
            "+----------------------------------------------------------------------------------------------------------------------------------------------+\n",
            "| objective_function_fe7cc_00002   RUNNING          0.000582455                 32                                                             |\n",
            "| objective_function_fe7cc_00003   RUNNING          0.000360557                 16                                                             |\n",
            "| objective_function_fe7cc_00000   TERMINATED       0.0372278                    8        1            34.4082               0.3445     0.3445 |\n",
            "| objective_function_fe7cc_00001   TERMINATED       0.00579696                   8        1            41.5839               0.3724     0.3724 |\n",
            "| objective_function_fe7cc_00004   PENDING          0.00133134                  16                                                             |\n",
            "+----------------------------------------------------------------------------------------------------------------------------------------------+\n",
            "\n",
            "Trial objective_function_fe7cc_00002 finished iteration 1 at 2023-10-15 15:26:58. Total running time: 2min 2s\n",
            "+----------------------------------------------------------+\n",
            "| Trial objective_function_fe7cc_00002 result              |\n",
            "+----------------------------------------------------------+\n",
            "| checkpoint_dir_name                                      |\n",
            "| time_this_iter_s                                72.90276 |\n",
            "| time_total_s                                    72.90276 |\n",
            "| training_iteration                                     1 |\n",
            "| best_valid_result/hit@10                          0.7052 |\n",
            "| best_valid_result/mrr@10                          0.3599 |\n",
            "| best_valid_result/ndcg@10                         0.2119 |\n",
            "| best_valid_result/precision@10                    0.1449 |\n",
            "| best_valid_result/recall@10                       0.1959 |\n",
            "| best_valid_score                                  0.3599 |\n",
            "| model                                                BPR |\n",
            "| mrr@10                                            0.3599 |\n",
            "| test_result/hit@10                                0.7179 |\n",
            "| test_result/mrr@10                                0.4131 |\n",
            "| test_result/ndcg@10                               0.2457 |\n",
            "| test_result/precision@10                          0.1707 |\n",
            "| test_result/recall@10                              0.205 |\n",
            "| valid_score_bigger                                  True |\n",
            "+----------------------------------------------------------+\n",
            "\n",
            "Trial objective_function_fe7cc_00002 completed after 1 iterations at 2023-10-15 15:26:58. Total running time: 2min 2s\n",
            "\n",
            "Trial objective_function_fe7cc_00004 started with configuration:\n",
            "+---------------------------------------------------------+\n",
            "| Trial objective_function_fe7cc_00004 config             |\n",
            "+---------------------------------------------------------+\n",
            "| embedding_size                                       16 |\n",
            "| learning_rate                                   0.00133 |\n",
            "+---------------------------------------------------------+\n",
            "\n",
            "Trial status: 3 TERMINATED | 2 RUNNING\n",
            "Current time: 2023-10-15 15:27:25. Total running time: 2min 30s\n",
            "Logical resource usage: 2.0/2 CPUs, 0/0 GPUs\n",
            "+----------------------------------------------------------------------------------------------------------------------------------------------+\n",
            "| Trial name                       status         learning_rate     embedding_size     iter     total time (s)     best_valid_score     mrr@10 |\n",
            "+----------------------------------------------------------------------------------------------------------------------------------------------+\n",
            "| objective_function_fe7cc_00003   RUNNING          0.000360557                 16                                                             |\n",
            "| objective_function_fe7cc_00004   RUNNING          0.00133134                  16                                                             |\n",
            "| objective_function_fe7cc_00000   TERMINATED       0.0372278                    8        1            34.4082               0.3445     0.3445 |\n",
            "| objective_function_fe7cc_00001   TERMINATED       0.00579696                   8        1            41.5839               0.3724     0.3724 |\n",
            "| objective_function_fe7cc_00002   TERMINATED       0.000582455                 32        1            72.9028               0.3599     0.3599 |\n",
            "+----------------------------------------------------------------------------------------------------------------------------------------------+\n",
            "\n",
            "Trial objective_function_fe7cc_00004 finished iteration 1 at 2023-10-15 15:27:26. Total running time: 2min 31s\n",
            "+----------------------------------------------------------+\n",
            "| Trial objective_function_fe7cc_00004 result              |\n",
            "+----------------------------------------------------------+\n",
            "| checkpoint_dir_name                                      |\n",
            "| time_this_iter_s                                28.53139 |\n",
            "| time_total_s                                    28.53139 |\n",
            "| training_iteration                                     1 |\n",
            "| best_valid_result/hit@10                          0.6607 |\n",
            "| best_valid_result/mrr@10                          0.3333 |\n",
            "| best_valid_result/ndcg@10                         0.1834 |\n",
            "| best_valid_result/precision@10                    0.1236 |\n",
            "| best_valid_result/recall@10                       0.1693 |\n",
            "| best_valid_score                                  0.3333 |\n",
            "| model                                                BPR |\n",
            "| mrr@10                                            0.3333 |\n",
            "| test_result/hit@10                                0.6713 |\n",
            "| test_result/mrr@10                                0.4063 |\n",
            "| test_result/ndcg@10                               0.2277 |\n",
            "| test_result/precision@10                          0.1536 |\n",
            "| test_result/recall@10                             0.1801 |\n",
            "| valid_score_bigger                                  True |\n",
            "+----------------------------------------------------------+\n",
            "\n",
            "Trial objective_function_fe7cc_00004 completed after 1 iterations at 2023-10-15 15:27:26. Total running time: 2min 31s\n",
            "\n",
            "Trial status: 4 TERMINATED | 1 RUNNING\n",
            "Current time: 2023-10-15 15:27:55. Total running time: 3min 0s\n",
            "Logical resource usage: 1.0/2 CPUs, 0/0 GPUs\n",
            "+----------------------------------------------------------------------------------------------------------------------------------------------+\n",
            "| Trial name                       status         learning_rate     embedding_size     iter     total time (s)     best_valid_score     mrr@10 |\n",
            "+----------------------------------------------------------------------------------------------------------------------------------------------+\n",
            "| objective_function_fe7cc_00003   RUNNING          0.000360557                 16                                                             |\n",
            "| objective_function_fe7cc_00000   TERMINATED       0.0372278                    8        1            34.4082               0.3445     0.3445 |\n",
            "| objective_function_fe7cc_00001   TERMINATED       0.00579696                   8        1            41.5839               0.3724     0.3724 |\n",
            "| objective_function_fe7cc_00002   TERMINATED       0.000582455                 32        1            72.9028               0.3599     0.3599 |\n",
            "| objective_function_fe7cc_00004   TERMINATED       0.00133134                  16        1            28.5314               0.3333     0.3333 |\n",
            "+----------------------------------------------------------------------------------------------------------------------------------------------+\n",
            "\n",
            "Trial objective_function_fe7cc_00003 finished iteration 1 at 2023-10-15 15:28:02. Total running time: 3min 6s\n",
            "+-----------------------------------------------------------+\n",
            "| Trial objective_function_fe7cc_00003 result               |\n",
            "+-----------------------------------------------------------+\n",
            "| checkpoint_dir_name                                       |\n",
            "| time_this_iter_s                                129.80583 |\n",
            "| time_total_s                                    129.80583 |\n",
            "| training_iteration                                      1 |\n",
            "| best_valid_result/hit@10                           0.7126 |\n",
            "| best_valid_result/mrr@10                           0.3741 |\n",
            "| best_valid_result/ndcg@10                          0.2168 |\n",
            "| best_valid_result/precision@10                     0.1476 |\n",
            "| best_valid_result/recall@10                        0.1937 |\n",
            "| best_valid_score                                   0.3741 |\n",
            "| model                                                 BPR |\n",
            "| mrr@10                                             0.3741 |\n",
            "| test_result/hit@10                                 0.7285 |\n",
            "| test_result/mrr@10                                 0.4066 |\n",
            "| test_result/ndcg@10                                0.2486 |\n",
            "| test_result/precision@10                           0.1761 |\n",
            "| test_result/recall@10                              0.2159 |\n",
            "| valid_score_bigger                                   True |\n",
            "+-----------------------------------------------------------+\n",
            "\n",
            "Trial objective_function_fe7cc_00003 completed after 1 iterations at 2023-10-15 15:28:02. Total running time: 3min 6s\n",
            "\n",
            "Trial status: 5 TERMINATED\n",
            "Current time: 2023-10-15 15:28:02. Total running time: 3min 6s\n",
            "Logical resource usage: 1.0/2 CPUs, 0/0 GPUs\n",
            "+----------------------------------------------------------------------------------------------------------------------------------------------+\n",
            "| Trial name                       status         learning_rate     embedding_size     iter     total time (s)     best_valid_score     mrr@10 |\n",
            "+----------------------------------------------------------------------------------------------------------------------------------------------+\n",
            "| objective_function_fe7cc_00000   TERMINATED       0.0372278                    8        1            34.4082               0.3445     0.3445 |\n",
            "| objective_function_fe7cc_00001   TERMINATED       0.00579696                   8        1            41.5839               0.3724     0.3724 |\n",
            "| objective_function_fe7cc_00002   TERMINATED       0.000582455                 32        1            72.9028               0.3599     0.3599 |\n",
            "| objective_function_fe7cc_00003   TERMINATED       0.000360557                 16        1           129.806                0.3741     0.3741 |\n",
            "| objective_function_fe7cc_00004   TERMINATED       0.00133134                  16        1            28.5314               0.3333     0.3333 |\n",
            "+----------------------------------------------------------------------------------------------------------------------------------------------+\n",
            "\n",
            "best params:  {'learning_rate': 0.0003605570664044038, 'embedding_size': 16}\n",
            "best result:  {'model': 'BPR', 'best_valid_score': 0.3741, 'valid_score_bigger': True, 'best_valid_result': OrderedDict([('recall@10', 0.1937), ('mrr@10', 0.3741), ('ndcg@10', 0.2168), ('hit@10', 0.7126), ('precision@10', 0.1476)]), 'test_result': OrderedDict([('recall@10', 0.2159), ('mrr@10', 0.4066), ('ndcg@10', 0.2486), ('hit@10', 0.7285), ('precision@10', 0.1761)]), 'mrr@10': 0.3741, 'timestamp': 1697383682, 'done': True, 'training_iteration': 1, 'trial_id': 'fe7cc_00003', 'date': '2023-10-15_15-28-02', 'time_this_iter_s': 129.80583381652832, 'time_total_s': 129.80583381652832, 'pid': 24554, 'hostname': '8196f21810e0', 'node_ip': '172.28.0.12', 'config': {'learning_rate': 0.0003605570664044038, 'embedding_size': 16}, 'time_since_restore': 129.80583381652832, 'iterations_since_restore': 1, 'checkpoint_dir_name': None, 'experiment_tag': '3_embedding_size=16,learning_rate=0.0004'}\n"
          ]
        }
      ]
    }
  ]
}